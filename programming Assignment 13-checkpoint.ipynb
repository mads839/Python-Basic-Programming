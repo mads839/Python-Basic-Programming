{
 "cells": [
  {
   "cell_type": "code",
   "execution_count": 2,
   "metadata": {},
   "outputs": [
    {
     "name": "stdout",
     "output_type": "stream",
     "text": [
      "Enter comma separated values: 100,150\n",
      "[100, 150]\n",
      "[18, 22]\n"
     ]
    }
   ],
   "source": [
    "# Write a program that calculates and prints the value according to the given formula:\n",
    "# Q = Square root of [(2 * C * D)/H]\n",
    "# Following are the fixed values of C and H:\n",
    "# C is 50. H is 30.\n",
    "# D is the variable whose values should be input to your program in a comma-separated sequence.\n",
    "# Example\n",
    "# Let us assume the following comma separated input sequence is given to the program:\n",
    "# 100,150,180\n",
    "# The output of the program should be:\n",
    "# 18,22,24\n",
    "import math \n",
    "C=50\n",
    "H=30\n",
    "D= list(map(int, input(\"Enter comma separated values: \").split(\",\")))\n",
    "print(D)\n",
    "lst=[]\n",
    "for i in D:\n",
    "    result=math.sqrt((2*C*i)/H)\n",
    "    lst.append(round(result))\n",
    "print(lst)\n"
   ]
  },
  {
   "cell_type": "code",
   "execution_count": 3,
   "metadata": {},
   "outputs": [
    {
     "name": "stdout",
     "output_type": "stream",
     "text": [
      "Enter values for row and column number: 3,5\n",
      "[[0, 0, 0, 0, 0], [0, 1, 2, 3, 4], [0, 2, 4, 6, 8]]\n"
     ]
    }
   ],
   "source": [
    "# Write a program which takes 2 digits, X,Y as input and generates a 2-dimensional array. \n",
    "# The element value in the i-th row and j-th column of the array should be i*j.\n",
    "# Note: i=0,1.., X-1; j=0,1,¡¬Y-1.\n",
    "# Example\n",
    "# Suppose the following inputs are given to the program:\n",
    "# 3,5\n",
    "# Then, the output of the program should be:\n",
    "# [[0, 0, 0, 0, 0], [0, 1, 2, 3, 4], [0, 2, 4, 6, 8]] \n",
    "X, Y = input(r\"Enter values for row and column number: \").split(\",\")\n",
    "X = int(X)\n",
    "Y = int(Y)\n",
    "array = [[X*Y for Y in range(Y)] for X in range(X)]\n",
    "print(array)"
   ]
  },
  {
   "cell_type": "code",
   "execution_count": 8,
   "metadata": {},
   "outputs": [
    {
     "name": "stdout",
     "output_type": "stream",
     "text": [
      "Enter strings: without,hello,bag,world\n",
      "['bag', 'hello', 'without', 'world']\n"
     ]
    }
   ],
   "source": [
    "# Write a program that accepts a comma separated sequence of words as input \n",
    "# and prints the words in a comma-separated sequence after sorting them alphabetically.\n",
    "# Suppose the following input is supplied to the program:\n",
    "# without,hello,bag,world\n",
    "# Then, the output should be:\n",
    "# bag,hello,without,world\n",
    "my_str= input(r\"Enter strings: \").split(\",\")\n",
    "new_str=[]\n",
    "for i in my_str:\n",
    "    new_str.append(i)\n",
    "    new_str.sort()\n",
    "print(new_str)"
   ]
  },
  {
   "cell_type": "code",
   "execution_count": 2,
   "metadata": {},
   "outputs": [
    {
     "name": "stdout",
     "output_type": "stream",
     "text": [
      "Enter strings:  hello world and practice makes perfect and hello world again\n",
      " again and hello makes perfect practice world\n"
     ]
    }
   ],
   "source": [
    "# Write a program that accepts a sequence of whitespace separated words as input and prints the words after removing all duplicate words and sorting them alphanumerically.\n",
    "# Suppose the following input is supplied to the program:\n",
    "# hello world and practice makes perfect and hello world again\n",
    "# Then, the output should be:\n",
    "# again and hello makes perfect practice world\n",
    "my_str= input(r\"Enter strings: \").split(\" \")\n",
    "new_str=[]\n",
    "res_str=[]\n",
    "for i in my_str:\n",
    "    new_str.append(i)\n",
    "    for i in new_str:\n",
    "        if i not in res_str:\n",
    "            res_str.append(i)\n",
    "            res_str.sort()\n",
    "print(\" \".join(res_str))"
   ]
  },
  {
   "cell_type": "code",
   "execution_count": 4,
   "metadata": {},
   "outputs": [
    {
     "name": "stdout",
     "output_type": "stream",
     "text": [
      "3 10\n"
     ]
    }
   ],
   "source": [
    "# Question 5:\n",
    "# Write a program that accepts a sentence and calculate the number of letters and digits.\n",
    "# Suppose the following input is supplied to the program:\n",
    "# hello world! 123\n",
    "# Then, the output should be:\n",
    "# LETTERS 10\n",
    "# DIGITS 3\n",
    "my_str= \"hello world! 123\"\n",
    "d=0\n",
    "l=0\n",
    "for i in my_str:\n",
    "    if i.isdigit():\n",
    "        d=d+1\n",
    "    if i.isalpha():\n",
    "        l=l+1\n",
    "    else:\n",
    "        pass\n",
    "print( d,l)"
   ]
  },
  {
   "cell_type": "code",
   "execution_count": 11,
   "metadata": {},
   "outputs": [
    {
     "name": "stdout",
     "output_type": "stream",
     "text": [
      "Enter comma separated password: gn,Mads@123,mads_321\n",
      "gn length is too small\n",
      "Mads@123 Password is valid\n",
      "mads_321 password is not valid\n"
     ]
    }
   ],
   "source": [
    "# A website requires the users to input username and password to register. \n",
    "# Write a program to check the validity of password input by users.\n",
    "# Following are the criteria for checking the password:\n",
    "# 1. At least 1 letter between [a-z]\n",
    "# 2. At least 1 number between [0-9]\n",
    "# 1. At least 1 letter between [A-Z]\n",
    "# 3. At least 1 character from [$#@]\n",
    "# 4. Minimum length of transaction password: 6\n",
    "# 5. Maximum length of transaction password: 12\n",
    "# Your program should accept a sequence of comma separated passwords and will check them according to the above criteria.\n",
    "# Passwords that match the criteria are to be printed, each separated by a comma.\n",
    "password= list(input(\"Enter comma separated password: \").split(\",\"))\n",
    "a,n,c,l=0,0,0,0\n",
    "for i in range(len(password)):\n",
    "    if (len(password[i])>=6 and len(password[i])<=12):\n",
    "        for j in password[i]:\n",
    "            if (j.islower()):\n",
    "                a=a+1\n",
    "            if (j.isdigit()):\n",
    "                n=n+1\n",
    "            if (j.isupper()):\n",
    "                l=l+1\n",
    "            if (j==\"$\"or j==\"#\"or j==\"@\" ):\n",
    "                c=c+1\n",
    "        if (a>=1 and n>=1 and l>=1 and c>=1 and len(password[i])==a+n+l+c):\n",
    "            print(str(password[i])+\" \"+\"Password is valid\")\n",
    "        else:\n",
    "                print(str(password[i])+\" \"+\"password is not valid\")\n",
    "    else:\n",
    "        print(str(password[i])+\" \"+\"length is too small\")\n",
    "\n",
    "    \n",
    "          \n"
   ]
  },
  {
   "cell_type": "code",
   "execution_count": null,
   "metadata": {},
   "outputs": [],
   "source": []
  },
  {
   "cell_type": "code",
   "execution_count": null,
   "metadata": {},
   "outputs": [],
   "source": []
  },
  {
   "cell_type": "code",
   "execution_count": null,
   "metadata": {},
   "outputs": [],
   "source": []
  }
 ],
 "metadata": {
  "kernelspec": {
   "display_name": "Python 3",
   "language": "python",
   "name": "python3"
  },
  "language_info": {
   "codemirror_mode": {
    "name": "ipython",
    "version": 3
   },
   "file_extension": ".py",
   "mimetype": "text/x-python",
   "name": "python",
   "nbconvert_exporter": "python",
   "pygments_lexer": "ipython3",
   "version": "3.8.3"
  }
 },
 "nbformat": 4,
 "nbformat_minor": 4
}
