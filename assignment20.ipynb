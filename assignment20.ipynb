{
 "cells": [
  {
   "cell_type": "code",
   "execution_count": 3,
   "id": "8ad6c6d1",
   "metadata": {},
   "outputs": [],
   "source": [
    "#Create a function that takes a list of strings and integers, and \n",
    "#filters out the list so that it returns a list of integers only.\n",
    "def filter_int(l):\n",
    "    lst=[]\n",
    "    for i in l:\n",
    "        if type(i)==int:\n",
    "            lst.append(i)\n",
    "    return(lst)\n",
    "\n",
    "        "
   ]
  },
  {
   "cell_type": "code",
   "execution_count": 4,
   "id": "e2819a25",
   "metadata": {},
   "outputs": [
    {
     "data": {
      "text/plain": [
       "[1, 2, 3, 4]"
      ]
     },
     "execution_count": 4,
     "metadata": {},
     "output_type": "execute_result"
    }
   ],
   "source": [
    "filter_int([1, 2, 3, \"a\", \"b\", 4])"
   ]
  },
  {
   "cell_type": "code",
   "execution_count": 10,
   "id": "01604d67",
   "metadata": {},
   "outputs": [
    {
     "name": "stdout",
     "output_type": "stream",
     "text": [
      "Enter value of radius :2\n",
      "Enter the value of height: 3\n",
      "12.56\n"
     ]
    }
   ],
   "source": [
    "#Create a function that takes the height and radius of a cone as arguments and \n",
    "#returns the volume of the cone rounded to the nearest hundredth. See the resources tab for the formula.\n",
    "import math\n",
    "pi=math.pi\n",
    "def cone_area(r,h):\n",
    "    a=(1/3)*3.14*r*r*h\n",
    "    return(a)\n",
    "r=float(input(\"Enter value of radius :\"))\n",
    "h=float(input(\"Enter the value of height: \"))\n",
    "print(\"%0.2f\"%cone_area(r,h))\n",
    "    "
   ]
  },
  {
   "cell_type": "code",
   "execution_count": 44,
   "id": "77417efc",
   "metadata": {},
   "outputs": [
    {
     "name": "stdout",
     "output_type": "stream",
     "text": [
      "enter the number:215\n",
      "The 215 triangle has 23220 no of dots\n"
     ]
    }
   ],
   "source": [
    "#This Triangular Number Sequence is generated from a pattern of dots that form a triangle.\n",
    "#The first 5 numbers of the sequence, or dots, are: \n",
    "def tri_dot(n):\n",
    "    return(n*(n+1)*0.5)\n",
    "n=int(input(\"enter the number:\"))\n",
    "print(\"The {} triangle has {} no of dots\".format(n,int(tri_dot(n))))\n"
   ]
  },
  {
   "cell_type": "code",
   "execution_count": 32,
   "id": "a78768f4",
   "metadata": {},
   "outputs": [],
   "source": [
    "#Create a function that takes a list of numbers between 1 and 10 (excluding one number) and returns the missing number.\n",
    "def finding_missing(l):\n",
    "    max=l[0]\n",
    "    for i in l:\n",
    "        if i>max:\n",
    "            max=i\n",
    "    list1=[]\n",
    "    for _ in l:\n",
    "        max=max-1\n",
    "        if max not in lst:\n",
    "            list1.append(max)\n",
    "    return(list1)"
   ]
  },
  {
   "cell_type": "code",
   "execution_count": 34,
   "id": "d77f7722",
   "metadata": {},
   "outputs": [
    {
     "name": "stdout",
     "output_type": "stream",
     "text": [
      "[8, 5, 3]\n"
     ]
    }
   ],
   "source": [
    "lst = [1, 2, 4, 6, 7, 9, 10]\n",
    "print(finding_missing(lst))"
   ]
  },
  {
   "cell_type": "code",
   "execution_count": null,
   "id": "5f19709c",
   "metadata": {},
   "outputs": [],
   "source": []
  },
  {
   "cell_type": "code",
   "execution_count": null,
   "id": "3d52b6ae",
   "metadata": {},
   "outputs": [],
   "source": []
  }
 ],
 "metadata": {
  "kernelspec": {
   "display_name": "Python 3 (ipykernel)",
   "language": "python",
   "name": "python3"
  },
  "language_info": {
   "codemirror_mode": {
    "name": "ipython",
    "version": 3
   },
   "file_extension": ".py",
   "mimetype": "text/x-python",
   "name": "python",
   "nbconvert_exporter": "python",
   "pygments_lexer": "ipython3",
   "version": "3.9.13"
  }
 },
 "nbformat": 4,
 "nbformat_minor": 5
}
