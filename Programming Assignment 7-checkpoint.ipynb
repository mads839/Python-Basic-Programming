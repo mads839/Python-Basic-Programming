{
 "cells": [
  {
   "cell_type": "code",
   "execution_count": 8,
   "metadata": {},
   "outputs": [
    {
     "name": "stdout",
     "output_type": "stream",
     "text": [
      "100\n"
     ]
    }
   ],
   "source": [
    "# 1.\tWrite a Python Program to find sum of array?\n",
    "import numpy as np\n",
    "a = np.array([10,20,30,40])\n",
    "print(a.sum())\n",
    " \n",
    "\n",
    "\n"
   ]
  },
  {
   "cell_type": "code",
   "execution_count": 10,
   "metadata": {},
   "outputs": [
    {
     "name": "stdout",
     "output_type": "stream",
     "text": [
      "40\n"
     ]
    }
   ],
   "source": [
    "# 2.\tWrite a Python Program to find largest element in an array?\n",
    "import numpy as np\n",
    "a = np.array([10,20,30,40])\n",
    "print(a.max())\n",
    " "
   ]
  },
  {
   "cell_type": "code",
   "execution_count": 151,
   "metadata": {},
   "outputs": [
    {
     "name": "stdout",
     "output_type": "stream",
     "text": [
      "1 2 3 4 5 Enter rotation count: 3\n",
      "\n",
      "Array after rotation:  4 5 1 2 3 "
     ]
    }
   ],
   "source": [
    "# 3.\tWrite a Python Program for array rotation?\n",
    "def rotateArrayLeft(arr, R, n):\n",
    "    for i in range(R):\n",
    "        firstVal = arr[0]\n",
    "        for i in range(n-1):\n",
    "            arr[i] = arr[i+1]\n",
    "        arr[n-1] = firstVal\n",
    "arr = [1, 2, 3, 4, 5]\n",
    "for i in range(n):\n",
    "    print (arr[i],end=\" \")\n",
    "n = len(arr)\n",
    "R = int(input(\"Enter rotation count: \"))\n",
    "rotateArrayLeft(arr, R, n)\n",
    "print(\"\\nArray after rotation: \", end = \" \")\n",
    "for i in range(n):\n",
    "    print (arr[i],end=\" \")"
   ]
  },
  {
   "cell_type": "code",
   "execution_count": 152,
   "metadata": {},
   "outputs": [
    {
     "name": "stdout",
     "output_type": "stream",
     "text": [
      "Original array: \n",
      "[1, 2, 3, 4, 5]\n",
      "[4, 5, 1, 2, 3]\n"
     ]
    }
   ],
   "source": [
    "# 4.\tWrite a Python Program to Split the array and add the first part to the end?\n",
    "import numpy as np\n",
    "arr = [1, 2, 3, 4, 5] \n",
    "n = 3\n",
    "old_list=[]\n",
    "new_list=[]\n",
    "print(\"Original array: \")  \n",
    "for i in range(0,len(arr)):    \n",
    "    old_list.append(arr[i])\n",
    "print(old_list)\n",
    "for i in range(0,n): \n",
    "    first = arr[0]\n",
    "    for j in range(0,len(arr)-1): \n",
    "        arr[j] = arr[j+1]\n",
    "    arr[len(arr)-1] = first\n",
    "for i in range(0, len(arr)): \n",
    "    new_list.append(arr[i])\n",
    "print(new_list)"
   ]
  },
  {
   "cell_type": "code",
   "execution_count": 204,
   "metadata": {},
   "outputs": [
    {
     "name": "stdout",
     "output_type": "stream",
     "text": [
      "enter a list: 1452\n",
      "['1', '4', '5', '2']\n",
      "False\n"
     ]
    }
   ],
   "source": [
    "# 5.\tWrite a Python Program to check if given array is Monotonic?\n",
    "def isMonotonic(A):\n",
    "  \n",
    "    return (all(A[i] <= A[i + 1] for i in range(len(A) - 1)) or\n",
    "            all(A[i] >= A[i + 1] for i in range(len(A) - 1)))\n",
    "  \n",
    "\n",
    "A = list(input(\"enter a list: \"))\n",
    "print(A)\n",
    "  \n",
    "# Print required result\n",
    "print(isMonotonic(A))"
   ]
  },
  {
   "cell_type": "code",
   "execution_count": null,
   "metadata": {},
   "outputs": [],
   "source": []
  },
  {
   "cell_type": "code",
   "execution_count": null,
   "metadata": {},
   "outputs": [],
   "source": []
  }
 ],
 "metadata": {
  "kernelspec": {
   "display_name": "Python 3",
   "language": "python",
   "name": "python3"
  },
  "language_info": {
   "codemirror_mode": {
    "name": "ipython",
    "version": 3
   },
   "file_extension": ".py",
   "mimetype": "text/x-python",
   "name": "python",
   "nbconvert_exporter": "python",
   "pygments_lexer": "ipython3",
   "version": "3.8.3"
  }
 },
 "nbformat": 4,
 "nbformat_minor": 4
}
