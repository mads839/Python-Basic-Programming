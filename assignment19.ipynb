{
 "cells": [
  {
   "cell_type": "code",
   "execution_count": 39,
   "id": "c85225b4",
   "metadata": {},
   "outputs": [
    {
     "name": "stdout",
     "output_type": "stream",
     "text": [
      "Enter the string:string\n",
      "ssttrriinngg\n"
     ]
    }
   ],
   "source": [
    "#Create a function that takes a string and returns a string in which each character is repeated once.\n",
    "def repeat_str(s):\n",
    "    outstr=\"\"\n",
    "    for c in s:\n",
    "        outstr=outstr+c+c\n",
    "    return(outstr)\n",
    "s=input(\"Enter the string:\" )\n",
    "print(repeat_str(s))\n",
    "    "
   ]
  },
  {
   "cell_type": "code",
   "execution_count": 16,
   "id": "eaf97ef4",
   "metadata": {},
   "outputs": [],
   "source": [
    "#Create a function that reverses a boolean value and returns the string \"boolean expected\" if another variable type is given\n",
    "def reverse(arg=None):\n",
    "    return not arg if type(arg)==bool else \"boolean expected\"\n"
   ]
  },
  {
   "cell_type": "code",
   "execution_count": 17,
   "id": "992e1183",
   "metadata": {},
   "outputs": [
    {
     "data": {
      "text/plain": [
       "False"
      ]
     },
     "execution_count": 17,
     "metadata": {},
     "output_type": "execute_result"
    }
   ],
   "source": [
    "reverse(True) "
   ]
  },
  {
   "cell_type": "code",
   "execution_count": 18,
   "id": "e1aa7e37",
   "metadata": {},
   "outputs": [
    {
     "data": {
      "text/plain": [
       "'boolean expected'"
      ]
     },
     "execution_count": 18,
     "metadata": {},
     "output_type": "execute_result"
    }
   ],
   "source": [
    "reverse(2) "
   ]
  },
  {
   "cell_type": "code",
   "execution_count": 15,
   "id": "53c6a616",
   "metadata": {},
   "outputs": [
    {
     "name": "stdout",
     "output_type": "stream",
     "text": [
      "Enter the no: 4\n",
      "0.008m\n"
     ]
    }
   ],
   "source": [
    "#Create a function that returns the thickness (in meters) of a piece of paper after folding it n number of times. \n",
    "#The paper starts off with a thickness of 0.5mm.\n",
    "def num_layers(n):\n",
    "    thickness=0.5\n",
    "    for _ in range(n):\n",
    "        thickness*=2\n",
    "    return str(thickness / 1000)+'m'\n",
    "n=int(input(\"Enter the no: \"))\n",
    "print(num_layers(n))\n",
    "    "
   ]
  },
  {
   "cell_type": "code",
   "execution_count": 11,
   "id": "7f445dfe",
   "metadata": {},
   "outputs": [
    {
     "name": "stdout",
     "output_type": "stream",
     "text": [
      "Enter the string:eDaBiT\n",
      "[1, 3, 5]\n"
     ]
    }
   ],
   "source": [
    "#Create a function that takes a single string as argument and returns an ordered list \n",
    "#containing the indices of all capital letters in the string.\n",
    "def indices_caps(s):\n",
    "    indices=[]\n",
    "    for i in range(len(s)):\n",
    "        if s[i].isupper():\n",
    "            indices.append(i)\n",
    "    return(indices)\n",
    "s=str(input(\"Enter the string:\" ))\n",
    "print(indices_caps(s))\n",
    "\n"
   ]
  },
  {
   "cell_type": "code",
   "execution_count": 48,
   "id": "24d525e6",
   "metadata": {},
   "outputs": [
    {
     "name": "stdout",
     "output_type": "stream",
     "text": [
      "Enter a number : 8\n"
     ]
    },
    {
     "data": {
      "text/plain": [
       "[2, 4, 6, 8]"
      ]
     },
     "execution_count": 48,
     "metadata": {},
     "output_type": "execute_result"
    }
   ],
   "source": [
    "#Using list comprehensions, create a function that finds all even numbers from 1 to the given number.\n",
    "def even(n):\n",
    "    even=[i for i in range(2,n+1) if i%2==0]\n",
    "    return(even)\n",
    "n = int(input('Enter a number : '))\n",
    "even(n)"
   ]
  }
 ],
 "metadata": {
  "kernelspec": {
   "display_name": "Python 3 (ipykernel)",
   "language": "python",
   "name": "python3"
  },
  "language_info": {
   "codemirror_mode": {
    "name": "ipython",
    "version": 3
   },
   "file_extension": ".py",
   "mimetype": "text/x-python",
   "name": "python",
   "nbconvert_exporter": "python",
   "pygments_lexer": "ipython3",
   "version": "3.9.13"
  }
 },
 "nbformat": 4,
 "nbformat_minor": 5
}
