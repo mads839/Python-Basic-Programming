{
 "cells": [
  {
   "cell_type": "code",
   "execution_count": 11,
   "id": "99fda6b1",
   "metadata": {},
   "outputs": [
    {
     "name": "stdout",
     "output_type": "stream",
     "text": [
      "Enter the value 7227\n",
      "True\n"
     ]
    }
   ],
   "source": [
    "#Create a function that takes a number as an argument and returns True or False depending on whether the number is symmetrical or not.\n",
    "#A number is symmetrical when it is the same as its reverse.\n",
    "n= int(input(\"Enter the value \"))\n",
    "def symmetrical(n):\n",
    "    return str(n)== str(n)[::-1]\n",
    "print(symmetrical(n))\n"
   ]
  },
  {
   "cell_type": "code",
   "execution_count": 12,
   "id": "54a97e5a",
   "metadata": {},
   "outputs": [
    {
     "data": {
      "text/plain": [
       "False"
      ]
     },
     "execution_count": 12,
     "metadata": {},
     "output_type": "execute_result"
    }
   ],
   "source": [
    "symmetrical(12567)\n"
   ]
  },
  {
   "cell_type": "code",
   "execution_count": 13,
   "id": "64ec7fbf",
   "metadata": {},
   "outputs": [
    {
     "data": {
      "text/plain": [
       "True"
      ]
     },
     "execution_count": 13,
     "metadata": {},
     "output_type": "execute_result"
    }
   ],
   "source": [
    "symmetrical(1112111)"
   ]
  },
  {
   "cell_type": "code",
   "execution_count": 19,
   "id": "ccbf7bb5",
   "metadata": {},
   "outputs": [
    {
     "data": {
      "text/plain": [
       "6"
      ]
     },
     "execution_count": 19,
     "metadata": {},
     "output_type": "execute_result"
    }
   ],
   "source": [
    "#Given a string of numbers separated by a comma and space, return the product of the numbers\n",
    "def multiply_nums(s):\n",
    "    s=s.replace(\" \",\"\")\n",
    "    s=s.split(\",\")\n",
    "    sum=1\n",
    "    for i in s:\n",
    "        sum=sum*int(i)\n",
    "    return(sum)\n",
    "\n",
    "multiply_nums(\"2, 3\") "
   ]
  },
  {
   "cell_type": "code",
   "execution_count": 20,
   "id": "67218c30",
   "metadata": {},
   "outputs": [
    {
     "data": {
      "text/plain": [
       "24"
      ]
     },
     "execution_count": 20,
     "metadata": {},
     "output_type": "execute_result"
    }
   ],
   "source": [
    "multiply_nums(\"1, 2, 3, 4\") "
   ]
  },
  {
   "cell_type": "code",
   "execution_count": 7,
   "id": "553d512f",
   "metadata": {},
   "outputs": [],
   "source": [
    "#Create a function that squares every digit of a number.\n",
    "\n",
    "def square_digits(num):\n",
    "    z = ''.join(str(int(i)**2) for i in str(num))\n",
    "    return int(z)\n",
    " \n",
    "    "
   ]
  },
  {
   "cell_type": "code",
   "execution_count": 11,
   "id": "9c6f584f",
   "metadata": {},
   "outputs": [
    {
     "data": {
      "text/plain": [
       "811181"
      ]
     },
     "execution_count": 11,
     "metadata": {},
     "output_type": "execute_result"
    }
   ],
   "source": [
    "square_digits(9119) "
   ]
  },
  {
   "cell_type": "code",
   "execution_count": 9,
   "id": "d96db365",
   "metadata": {},
   "outputs": [],
   "source": [
    "#Create a function that sorts a list and removes all duplicate items from it.\n",
    "def setify(lst):\n",
    "    return(set(lst))\n"
   ]
  },
  {
   "cell_type": "code",
   "execution_count": 10,
   "id": "ab9715da",
   "metadata": {},
   "outputs": [
    {
     "data": {
      "text/plain": [
       "{1, 3, 5}"
      ]
     },
     "execution_count": 10,
     "metadata": {},
     "output_type": "execute_result"
    }
   ],
   "source": [
    "setify([1, 3, 3, 5, 5]) "
   ]
  },
  {
   "cell_type": "code",
   "execution_count": 16,
   "id": "8176740b",
   "metadata": {},
   "outputs": [],
   "source": [
    "#Create a function that returns the mean of all digits.\n",
    "def mean(n):\n",
    "    N=len(str(n))\n",
    "    sum=0\n",
    "    for i in str(n):\n",
    "        sum=sum+int(i)\n",
    "    return(int(sum/N))\n",
    "    "
   ]
  },
  {
   "cell_type": "code",
   "execution_count": 17,
   "id": "d97abfeb",
   "metadata": {},
   "outputs": [
    {
     "data": {
      "text/plain": [
       "3"
      ]
     },
     "execution_count": 17,
     "metadata": {},
     "output_type": "execute_result"
    }
   ],
   "source": [
    "mean(42)\n"
   ]
  },
  {
   "cell_type": "code",
   "execution_count": null,
   "id": "dd91bf79",
   "metadata": {},
   "outputs": [],
   "source": []
  }
 ],
 "metadata": {
  "kernelspec": {
   "display_name": "Python 3 (ipykernel)",
   "language": "python",
   "name": "python3"
  },
  "language_info": {
   "codemirror_mode": {
    "name": "ipython",
    "version": 3
   },
   "file_extension": ".py",
   "mimetype": "text/x-python",
   "name": "python",
   "nbconvert_exporter": "python",
   "pygments_lexer": "ipython3",
   "version": "3.9.13"
  }
 },
 "nbformat": 4,
 "nbformat_minor": 5
}
