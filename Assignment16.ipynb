{
 "cells": [
  {
   "cell_type": "code",
   "execution_count": 2,
   "id": "61399cd6",
   "metadata": {},
   "outputs": [
    {
     "name": "stdout",
     "output_type": "stream",
     "text": [
      "enter word incredible\n",
      "in...in...incredible?\n"
     ]
    }
   ],
   "source": [
    "#Question1. Write a function that stutters a word as if someone is struggling to read it. The first two letters are repeated twice with an ellipsis \n",
    "#and space after each, and then the word is pronounced with a question mark ?\n",
    "def stutter (word):\n",
    "    return(2*(word[:2]+ \"...\")+word+\"?\")\n",
    "word=input(\"enter word \")\n",
    "print(stutter(word))\n"
   ]
  },
  {
   "cell_type": "code",
   "execution_count": 20,
   "id": "390819a3",
   "metadata": {},
   "outputs": [
    {
     "name": "stdout",
     "output_type": "stream",
     "text": [
      "Enter the number 1\n",
      "degree= 57.3\n"
     ]
    }
   ],
   "source": [
    "#Question 2.Create a function that takes an angle in radians and \n",
    "#returns the corresponding angle in degrees rounded to one decimal place.\n",
    "def radians_degree(radian):\n",
    "    pi=3.14\n",
    "    degree=radian*(180/pi)\n",
    "    return(degree)\n",
    "\n",
    "radian=float(input(\"Enter the number \"))\n",
    "print(\"degree=\",\"%.1f\" %(radians_degree(radian)))\n"
   ]
  },
  {
   "cell_type": "code",
   "execution_count": 29,
   "id": "b1ed15d9",
   "metadata": {},
   "outputs": [
    {
     "name": "stdout",
     "output_type": "stream",
     "text": [
      "enter the number:33\n",
      "33 is curzon number\n"
     ]
    }
   ],
   "source": [
    "#Question 3. In this challenge, establish if a given integer num is a Curzon number. If 1 plus 2 elevated to num is exactly divisible by 1 plus 2 multiplied by num, then num is a Curzon number.\n",
    "#Given a non-negative integer num, implement a function that returns True if num is a Curzon number, or False otherwise.\n",
    "def curzon_number(n):\n",
    "    Power=pow(2,n)+1\n",
    "    Product=(2*n)+1\n",
    "    if(Power%Product==0):\n",
    "        print(n, \"is curzon number\")\n",
    "    else:\n",
    "        print(n, \"is not a curzon number\")\n",
    "n= int(input(\"enter the number:\"))\n",
    "curzon_number(n)\n"
   ]
  },
  {
   "cell_type": "code",
   "execution_count": 40,
   "id": "1e635f71",
   "metadata": {},
   "outputs": [
    {
     "name": "stdout",
     "output_type": "stream",
     "text": [
      "Enter the number: 2\n",
      "The area of hexagon is 10.4\n"
     ]
    }
   ],
   "source": [
    "#Question 4.Given the side length x find the area of a hexagon.\n",
    "import math\n",
    "def area_hexagon(x):\n",
    "    return(math.sqrt(3)*3*(x*x))/2\n",
    "x=int(input(\"Enter the number: \"))\n",
    "print(\"The area of hexagon is \" \"%.1f\"%(area_hexagon(x)))"
   ]
  },
  {
   "cell_type": "code",
   "execution_count": 31,
   "id": "082ca6b1",
   "metadata": {},
   "outputs": [
    {
     "name": "stdout",
     "output_type": "stream",
     "text": [
      "0\n",
      "1\n",
      "10\n",
      "11\n",
      "100\n",
      "101\n",
      "110\n",
      "111\n",
      "1000\n",
      "1001\n"
     ]
    }
   ],
   "source": [
    "# Function to convert Decimal number to Binary number\n",
    "def decimalToBinary(n):\n",
    "    return bin(n).replace(\"0b\",\"\")\n",
    "   \n",
    "for i in range(0,10):\n",
    "    print(decimalToBinary(i))"
   ]
  },
  {
   "cell_type": "code",
   "execution_count": null,
   "id": "8a159cf2",
   "metadata": {},
   "outputs": [],
   "source": []
  }
 ],
 "metadata": {
  "kernelspec": {
   "display_name": "Python 3 (ipykernel)",
   "language": "python",
   "name": "python3"
  },
  "language_info": {
   "codemirror_mode": {
    "name": "ipython",
    "version": 3
   },
   "file_extension": ".py",
   "mimetype": "text/x-python",
   "name": "python",
   "nbconvert_exporter": "python",
   "pygments_lexer": "ipython3",
   "version": "3.9.13"
  }
 },
 "nbformat": 4,
 "nbformat_minor": 5
}
