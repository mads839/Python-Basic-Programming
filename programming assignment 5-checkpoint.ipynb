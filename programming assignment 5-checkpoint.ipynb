{
 "cells": [
  {
   "cell_type": "code",
   "execution_count": 20,
   "id": "187f39c6",
   "metadata": {},
   "outputs": [
    {
     "name": "stdout",
     "output_type": "stream",
     "text": [
      "enter the first number12\n",
      "enter the first number24\n",
      "The L.C.M. of 12 and 24 is 24\n"
     ]
    }
   ],
   "source": [
    "# 1.\tWrite a Python Program to Find LCM?\n",
    "def cal_lcm(x,y):\n",
    "    if x > y:\n",
    "        greater=x\n",
    "    else:\n",
    "        greater=y\n",
    "    while(True):\n",
    "        if((greater%x==0)and(greater%y==0)):\n",
    "            lcm=greater\n",
    "        break\n",
    "        greater= greater+1\n",
    "    return(greater)\n",
    "    \n",
    "a=int(input(\"enter the first number\"))\n",
    "b=int(input(\"enter the first number\"))\n",
    "print(\"The L.C.M. of\", a,\"and\", b,\"is\", cal_lcm(a, b))  \n"
   ]
  },
  {
   "cell_type": "code",
   "execution_count": 21,
   "id": "8f39371c",
   "metadata": {},
   "outputs": [
    {
     "name": "stdout",
     "output_type": "stream",
     "text": [
      "Enter first number: 12\n",
      "Enter second number: 24\n",
      "The H.C.F. of 12 and 24 is 12\n"
     ]
    }
   ],
   "source": [
    "# 2.\tWrite a Python Program to Find HCF?\n",
    "def calculate_hcf(x, y):  \n",
    "    if x > y:  \n",
    "        smaller = y  \n",
    "    else:  \n",
    "        smaller = x  \n",
    "    for i in range(1,smaller + 1):  \n",
    "        if((x % i == 0) and (y % i == 0)):  \n",
    "            hcf = i  \n",
    "    return hcf  \n",
    "num1 = int(input(\"Enter first number: \"))  \n",
    "num2 = int(input(\"Enter second number: \"))  \n",
    "print(\"The H.C.F. of\", num1,\"and\", num2,\"is\", calculate_hcf(num1, num2))  "
   ]
  },
  {
   "cell_type": "code",
   "execution_count": 2,
   "id": "bde10df3",
   "metadata": {},
   "outputs": [
    {
     "name": "stdout",
     "output_type": "stream",
     "text": [
      "Object `Hexadecimal` not found.\n",
      "enter the Decimal number2\n",
      "0b10\n",
      "0o2\n",
      "0x2\n"
     ]
    }
   ],
   "source": [
    "# 3.\tWrite a Python Program to Convert Decimal to Binary, Octal and Hexadecimal?\n",
    "a=int(input(\"enter the Decimal number\"))\n",
    "Binary=bin(a)\n",
    "Octal=oct(a)\n",
    "Hexa=hex(a)\n",
    "print(Binary)\n",
    "print(Octal)\n",
    "print(Hexa)\n"
   ]
  },
  {
   "cell_type": "code",
   "execution_count": 3,
   "id": "e3afbfdb",
   "metadata": {},
   "outputs": [
    {
     "name": "stdout",
     "output_type": "stream",
     "text": [
      "Please enter a character: a\n",
      "The ASCII value of 'a' is  97\n"
     ]
    }
   ],
   "source": [
    "# 4.\tWrite a Python Program To Find ASCII value of a character?\n",
    "K = input(\"Please enter a character: \")    \n",
    "print (\"The ASCII value of '\" + K + \"' is \", ord(K))  "
   ]
  },
  {
   "cell_type": "code",
   "execution_count": 26,
   "id": "0c21f931",
   "metadata": {},
   "outputs": [
    {
     "name": "stdout",
     "output_type": "stream",
     "text": [
      "Select the operation\n",
      "a.Add\n",
      "b.Sub\n",
      "c.Mul\n",
      "d.Div\n",
      "Please enter choice (a/ b/ c/ d): a\n",
      "enter the first number2\n",
      "enter the second number4\n",
      "2  +  4  =  6\n"
     ]
    }
   ],
   "source": [
    "# 5.\tWrite a Python Program to Make a Simple Calculator with 4 basic mathematical operations?\n",
    "def add(a,b):\n",
    "    return(a+b)\n",
    "def sub(a,b):\n",
    "    return(a-b)\n",
    "def mul(a,b):\n",
    "    return(a*b)\n",
    "def div(a,b):\n",
    "    return(a/b)\n",
    "print(\"Select the operation\")\n",
    "print(\"a.Add\")\n",
    "print(\"b.Sub\")\n",
    "print(\"c.Mul\")\n",
    "print(\"d.Div\")\n",
    "Choice=input((\"Please enter choice (a/ b/ c/ d): \"))\n",
    "if Choice in ('a', 'b', 'c', 'd'):\n",
    "    p=int(input(\"enter the first number\"))\n",
    "    q=int(input(\"enter the second number\"))\n",
    "    if(Choice=='a'):\n",
    "         print (p, \" + \", q, \" = \", add(p,q)) \n",
    "    elif(Choice=='b'): \n",
    "        print (p, \" + \", q, \" = \", sub(p, q)) \n",
    "    elif(Choice=='c'): \n",
    "        print (p, \" + \", q, \" = \", mul(p, q))\n",
    "    elif(Choice=='d'):\n",
    "        print (p, \" + \", q, \" = \", div(p, q))\n",
    "else:\n",
    "    print(\"Wrong Input\")"
   ]
  },
  {
   "cell_type": "code",
   "execution_count": null,
   "id": "faf479c2",
   "metadata": {},
   "outputs": [],
   "source": []
  }
 ],
 "metadata": {
  "kernelspec": {
   "display_name": "Python 3",
   "language": "python",
   "name": "python3"
  },
  "language_info": {
   "codemirror_mode": {
    "name": "ipython",
    "version": 3
   },
   "file_extension": ".py",
   "mimetype": "text/x-python",
   "name": "python",
   "nbconvert_exporter": "python",
   "pygments_lexer": "ipython3",
   "version": "3.8.8"
  }
 },
 "nbformat": 4,
 "nbformat_minor": 5
}
