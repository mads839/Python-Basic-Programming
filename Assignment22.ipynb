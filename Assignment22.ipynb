{
 "cells": [
  {
   "cell_type": "code",
   "execution_count": 2,
   "id": "dbb569f0",
   "metadata": {},
   "outputs": [],
   "source": [
    "#Create a function that takes three parameters where:\n",
    "#•\tx is the start of the range (inclusive).\n",
    "#•\ty is the end of the range (inclusive).\n",
    "#•\tn is the divisor to be checked against.\n",
    "#Return an ordered list with numbers in the range that are divisible by the third parameter n. Return an empty list if there are no numbers that are divisible by n.\n",
    "def list_operation(x,y,n):\n",
    "    list1=[]\n",
    "    for i in range(x,y+1):\n",
    "        if (i%n==0):\n",
    "            list1.append(i)\n",
    "    return(list1)\n",
    "    \n",
    "\n"
   ]
  },
  {
   "cell_type": "code",
   "execution_count": 3,
   "id": "b3d15095",
   "metadata": {},
   "outputs": [
    {
     "data": {
      "text/plain": [
       "[3, 6, 9]"
      ]
     },
     "execution_count": 3,
     "metadata": {},
     "output_type": "execute_result"
    }
   ],
   "source": [
    "list_operation(1, 10, 3) "
   ]
  },
  {
   "cell_type": "code",
   "execution_count": 4,
   "id": "20dd7b4a",
   "metadata": {},
   "outputs": [
    {
     "data": {
      "text/plain": [
       "[8]"
      ]
     },
     "execution_count": 4,
     "metadata": {},
     "output_type": "execute_result"
    }
   ],
   "source": [
    "list_operation(7, 9, 2) "
   ]
  },
  {
   "cell_type": "code",
   "execution_count": 6,
   "id": "8e8c8cce",
   "metadata": {},
   "outputs": [],
   "source": [
    "#Create a function that takes in two lists and returns True if the second list follows the first list by one element, and False otherwise. In other words, determine if the second list is the first list shifted to the right by 1.\n",
    "def simon_say(list1,list2):\n",
    "    if(list1[0:len(list1)-1]==list2[1:len(list2)]):\n",
    "        return True\n",
    "    else:\n",
    "        return False\n"
   ]
  },
  {
   "cell_type": "code",
   "execution_count": 7,
   "id": "94aee689",
   "metadata": {},
   "outputs": [
    {
     "data": {
      "text/plain": [
       "True"
      ]
     },
     "execution_count": 7,
     "metadata": {},
     "output_type": "execute_result"
    }
   ],
   "source": [
    "simon_say([1, 2], [5, 1]) "
   ]
  },
  {
   "cell_type": "code",
   "execution_count": 9,
   "id": "8c6a1ff6",
   "metadata": {},
   "outputs": [
    {
     "data": {
      "text/plain": [
       "True"
      ]
     },
     "execution_count": 9,
     "metadata": {},
     "output_type": "execute_result"
    }
   ],
   "source": [
    "simon_say([1, 2, 3, 4, 5], [0, 1, 2, 3, 4]) "
   ]
  },
  {
   "cell_type": "code",
   "execution_count": 18,
   "id": "ace6dbbc",
   "metadata": {},
   "outputs": [],
   "source": [
    "#A group of friends have decided to start a secret society. The name will be the first letter of each of their names, sorted in alphabetical order.\n",
    "#Create a function that takes in a list of names and returns the name of the secret society.\n",
    "\n",
    "def society_name(lst):\n",
    "    list1=[]\n",
    "    for i in sorted(lst):\n",
    "        list1.append(i[0])\n",
    "        p=\"\".join(list1)\n",
    "    return(p)\n",
    "        \n",
    "    \n"
   ]
  },
  {
   "cell_type": "code",
   "execution_count": 19,
   "id": "a32498f6",
   "metadata": {},
   "outputs": [
    {
     "data": {
      "text/plain": [
       "'AMS'"
      ]
     },
     "execution_count": 19,
     "metadata": {},
     "output_type": "execute_result"
    }
   ],
   "source": [
    "society_name([\"Adam\", \"Sarah\", \"Malcolm\"]) "
   ]
  },
  {
   "cell_type": "code",
   "execution_count": 34,
   "id": "ee3ec7ea",
   "metadata": {},
   "outputs": [],
   "source": [
    "#An isogram is a word that has no duplicate letters. Create a function that takes a string and returns either True or False depending on whether or not it's an \"isogram\".\n",
    "\n",
    "def is_isogram(s):\n",
    "    for i in range(len(s)):\n",
    "        s=s.upper()\n",
    "        if s.count(s[i])>1:\n",
    "            return False\n",
    "        else:\n",
    "            return True\n",
    "    \n"
   ]
  },
  {
   "cell_type": "code",
   "execution_count": 35,
   "id": "b3490100",
   "metadata": {},
   "outputs": [
    {
     "data": {
      "text/plain": [
       "True"
      ]
     },
     "execution_count": 35,
     "metadata": {},
     "output_type": "execute_result"
    }
   ],
   "source": [
    "is_isogram(\"Algorism\") "
   ]
  },
  {
   "cell_type": "code",
   "execution_count": 42,
   "id": "3b4bbc51",
   "metadata": {},
   "outputs": [],
   "source": [
    "#Create a function that takes a string and returns True or False, depending on whether the characters are in order or not.\n",
    "def is_in_order(s):\n",
    "    p=sorted(s)\n",
    "    for i in range(len(p)):\n",
    "        if s[i]==p[i]:\n",
    "            return True\n",
    "        else:\n",
    "            return False\n",
    "    "
   ]
  },
  {
   "cell_type": "code",
   "execution_count": 43,
   "id": "f4250318",
   "metadata": {},
   "outputs": [
    {
     "data": {
      "text/plain": [
       "False"
      ]
     },
     "execution_count": 43,
     "metadata": {},
     "output_type": "execute_result"
    }
   ],
   "source": [
    "is_in_order(\"edabit\")"
   ]
  },
  {
   "cell_type": "code",
   "execution_count": 44,
   "id": "ba9c52cd",
   "metadata": {},
   "outputs": [
    {
     "data": {
      "text/plain": [
       "True"
      ]
     },
     "execution_count": 44,
     "metadata": {},
     "output_type": "execute_result"
    }
   ],
   "source": [
    "is_in_order(\"abcd\") "
   ]
  },
  {
   "cell_type": "code",
   "execution_count": 45,
   "id": "9b8ecb1c",
   "metadata": {},
   "outputs": [
    {
     "data": {
      "text/plain": [
       "True"
      ]
     },
     "execution_count": 45,
     "metadata": {},
     "output_type": "execute_result"
    }
   ],
   "source": [
    "is_in_order(\"123\") \n"
   ]
  },
  {
   "cell_type": "code",
   "execution_count": 46,
   "id": "6648c78d",
   "metadata": {},
   "outputs": [
    {
     "data": {
      "text/plain": [
       "True"
      ]
     },
     "execution_count": 46,
     "metadata": {},
     "output_type": "execute_result"
    }
   ],
   "source": [
    "is_in_order(\"xyzz\") "
   ]
  },
  {
   "cell_type": "code",
   "execution_count": null,
   "id": "af4b43c1",
   "metadata": {},
   "outputs": [],
   "source": []
  }
 ],
 "metadata": {
  "kernelspec": {
   "display_name": "Python 3 (ipykernel)",
   "language": "python",
   "name": "python3"
  },
  "language_info": {
   "codemirror_mode": {
    "name": "ipython",
    "version": 3
   },
   "file_extension": ".py",
   "mimetype": "text/x-python",
   "name": "python",
   "nbconvert_exporter": "python",
   "pygments_lexer": "ipython3",
   "version": "3.9.13"
  }
 },
 "nbformat": 4,
 "nbformat_minor": 5
}
