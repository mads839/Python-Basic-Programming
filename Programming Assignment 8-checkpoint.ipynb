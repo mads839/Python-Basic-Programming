{
 "cells": [
  {
   "cell_type": "code",
   "execution_count": null,
   "metadata": {},
   "outputs": [],
   "source": [
    "# 1.\tWrite a Python Program to Add Two Matrices?\n",
    "# 2.\tWrite a Python Program to Multiply Two Matrices?\n",
    "# 3.\tWrite a Python Program to Transpose a Matrix?\n",
    "# 4.\tWrite a Python Program to Sort Words in Alphabetic Order?\n",
    "# 5.\tWrite a Python Program to Remove Punctuation From a String?\n"
   ]
  },
  {
   "cell_type": "code",
   "execution_count": 35,
   "metadata": {},
   "outputs": [
    {
     "name": "stdout",
     "output_type": "stream",
     "text": [
      "[[10, 10, 10], [10, 10, 10], [10, 10, 10]]\n",
      "[[10, 10, 10], [10, 10, 10], [10, 10, 10]]\n",
      "[[10, 10, 10], [10, 10, 10], [10, 10, 10]]\n"
     ]
    }
   ],
   "source": [
    "# Write a Python Program to Add Two Matrices?\n",
    "X = [[1,2,3],  \n",
    "       [4,5,6],  \n",
    "       [7,8,9]]  \n",
    "Y = [[9,8,7],  \n",
    "       [6,5,4],  \n",
    "       [3,2,1]]  \n",
    "sum=[[0,0,0],  \n",
    "       [0,0,0],  \n",
    "       [0,0,0]]  \n",
    "for i in range(len(X)):  \n",
    "   # iterate through columns  \n",
    "   for j in range(len(X[0])):  \n",
    "        sum[i][j]= X[i][j] + Y[i][j] \n",
    "for r in sum:\n",
    "    print(sum)"
   ]
  },
  {
   "cell_type": "code",
   "execution_count": 43,
   "metadata": {},
   "outputs": [
    {
     "name": "stdout",
     "output_type": "stream",
     "text": [
      "1st Input array :  [[1 2 3]\n",
      " [4 5 6]\n",
      " [7 8 9]]\n",
      "2nd Input array :  [[9 8 7]\n",
      " [6 5 4]\n",
      " [3 2 1]]\n",
      "output added array :  [[10 10 10]\n",
      " [10 10 10]\n",
      " [10 10 10]]\n"
     ]
    }
   ],
   "source": [
    "import numpy as np\n",
    "  \n",
    "in_arr1 = np.array([[1,2, 3], [4,5, 6],[7,8,9]])\n",
    "in_arr2 = np.array([[9,8,7], [6,5,4],[3,2,1]])\n",
    "print (\"1st Input array : \", in_arr1) \n",
    "print (\"2nd Input array : \", in_arr2) \n",
    "    \n",
    "out_arr = np.add(in_arr1, in_arr2) \n",
    "print (\"output added array : \", out_arr) "
   ]
  },
  {
   "cell_type": "code",
   "execution_count": 31,
   "metadata": {},
   "outputs": [
    {
     "name": "stdout",
     "output_type": "stream",
     "text": [
      "1st Input array :  [[1, 2, 3], [4, 5, 6]]\n",
      "2nd Input array :  [[9, 8, 7], [6, 5, 4], [1, 2, 3]]\n",
      "[24 24 24]\n",
      "[72 69 66]\n"
     ]
    }
   ],
   "source": [
    "#  2.\tWrite a Python Program to Multiply Two Matrices?\n",
    "import numpy as np\n",
    "# 2x3\n",
    "arr1 =[[1,2,3],[4,5,6]]\n",
    "# 3x3\n",
    "arr2 = [[9,8,7],[6,5,4],[1,2,3]]\n",
    "result =[[0,0,0],[0,0,0]]\n",
    "print (\"1st Input array : \",arr1) \n",
    "print (\"2nd Input array : \", arr2) \n",
    "result = np.dot(arr1,arr2)\n",
    "for r in result:\n",
    "    print(r)\n"
   ]
  },
  {
   "cell_type": "code",
   "execution_count": 32,
   "metadata": {},
   "outputs": [
    {
     "name": "stdout",
     "output_type": "stream",
     "text": [
      "1st Input array :  [[1 2 3]\n",
      " [4 5 6]]\n",
      "2nd Input array :  [[9 8 7]\n",
      " [6 5 4]\n",
      " [1 2 3]]\n",
      "[24 24 24]\n",
      "[72 69 66]\n"
     ]
    }
   ],
   "source": [
    "import numpy as np\n",
    "# 2x3\n",
    "arr1 =np.array([[1,2,3],[4,5,6]])\n",
    "# 3x3\n",
    "arr2 = np.array([[9,8,7],[6,5,4],[1,2,3]])\n",
    "result = np.array([[0,0,0],[0,0,0]])\n",
    "print (\"1st Input array : \",arr1) \n",
    "print (\"2nd Input array : \", arr2) \n",
    "for i in range(len(arr1)):\n",
    "    for j in range(len(arr2[0])):\n",
    "        for k in range(len(arr2)):\n",
    "            result[i][j]+=arr1[i][k]*arr2[k][j]\n",
    "    \n",
    "for r in result:\n",
    "    print(r)\n",
    "    "
   ]
  },
  {
   "cell_type": "code",
   "execution_count": 44,
   "metadata": {},
   "outputs": [
    {
     "name": "stdout",
     "output_type": "stream",
     "text": [
      "[1, 4]\n",
      "[2, 5]\n",
      "[3, 6]\n"
     ]
    }
   ],
   "source": [
    "import numpy as np\n",
    "arr1 =[[1,2,3],[4,5,6]]\n",
    "result=[[0,0],[0,0],[0,0]]\n",
    "for i in range(len(arr1)):\n",
    "    for j in range(len(arr1[0])):\n",
    "        result[j][i]=arr1[i][j]\n",
    "for r in result:\n",
    "    print(r)"
   ]
  },
  {
   "cell_type": "code",
   "execution_count": 72,
   "metadata": {},
   "outputs": [
    {
     "name": "stdout",
     "output_type": "stream",
     "text": [
      "enter the string: r u mad\n",
      "['r', 'u', 'mad']\n",
      "['mad', 'r', 'u']\n"
     ]
    }
   ],
   "source": [
    "# Write a Python Program to Sort Words in Alphabetic Order?\n",
    "my_str=str(input(\"enter the string: \"))\n",
    "words=my_str.split()\n",
    "words_all=[]\n",
    "print(words)\n",
    "for i in words:\n",
    "    words_all.append(i.lower())\n",
    "    words_all.sort()\n",
    "print(words_all)"
   ]
  },
  {
   "cell_type": "code",
   "execution_count": null,
   "metadata": {},
   "outputs": [],
   "source": []
  }
 ],
 "metadata": {
  "kernelspec": {
   "display_name": "Python 3",
   "language": "python",
   "name": "python3"
  },
  "language_info": {
   "codemirror_mode": {
    "name": "ipython",
    "version": 3
   },
   "file_extension": ".py",
   "mimetype": "text/x-python",
   "name": "python",
   "nbconvert_exporter": "python",
   "pygments_lexer": "ipython3",
   "version": "3.8.3"
  }
 },
 "nbformat": 4,
 "nbformat_minor": 4
}
