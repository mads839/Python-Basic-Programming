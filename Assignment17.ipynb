{
 "cells": [
  {
   "cell_type": "code",
   "execution_count": 1,
   "id": "afbb62ac",
   "metadata": {},
   "outputs": [
    {
     "name": "stdout",
     "output_type": "stream",
     "text": [
      "Enter value of a 1\n",
      "Enter value of b 10\n",
      "Enter value of c 2\n",
      "30\n"
     ]
    }
   ],
   "source": [
    "#Question1. Create a function that takes three arguments a, b, c and returns the sum of the numbers \n",
    "#that are evenly divided by c from the range a, b inclusive.\n",
    "def sum_divisible(a,b,c):\n",
    "    sum=0\n",
    "    for i in range(a,b+1):\n",
    "        if(i % c== 0):\n",
    "            sum =sum+i\n",
    "    return(sum)\n",
    "a = int(input(\"Enter value of a \"))\n",
    "b = int(input(\"Enter value of b \"))\n",
    "c = int(input(\"Enter value of c \"))\n",
    "print(sum_divisible(a,b,c))"
   ]
  },
  {
   "cell_type": "code",
   "execution_count": 16,
   "id": "1826b188",
   "metadata": {},
   "outputs": [
    {
     "name": "stdout",
     "output_type": "stream",
     "text": [
      "False\n",
      "False\n",
      "True\n"
     ]
    }
   ],
   "source": [
    "#Question2. Create a function that returns True if a given inequality expression is correct and False otherwise.\n",
    "def correct_signs ( txt ) : \n",
    "    return eval ( txt )\n",
    "print(correct_signs(\"3 > 7 < 11\"))\n",
    "print(correct_signs(\"13 > 44 > 33 > 1\"))\n",
    "print(correct_signs(\"1 < 2 < 6 < 9 > 3\"))"
   ]
  },
  {
   "cell_type": "code",
   "execution_count": 23,
   "id": "c25c075c",
   "metadata": {},
   "outputs": [
    {
     "name": "stdout",
     "output_type": "stream",
     "text": [
      "Enter the string mads\n",
      "Enter the specified character 4\n",
      "mads\n",
      "4\n",
      "m4ds\n"
     ]
    }
   ],
   "source": [
    "#Question3. Create a function that replaces all the vowels in a string with a specified character.\n",
    "def replace_vowels(str,s):\n",
    "    vowels = 'AEIOUaeiou'\n",
    "    for i in vowels:\n",
    "        str=str.replace(i,s)\n",
    "    return str\n",
    "str=input(\"Enter the string \")\n",
    "s= input(\"Enter the specified character \")\n",
    "print(input_str)\n",
    "print(s)\n",
    "print(replace_vowels(str,s))"
   ]
  },
  {
   "cell_type": "code",
   "execution_count": 26,
   "id": "c0801c64",
   "metadata": {},
   "outputs": [
    {
     "name": "stdout",
     "output_type": "stream",
     "text": [
      "enter the number 3\n",
      "6\n"
     ]
    }
   ],
   "source": [
    "#Question4. Write a function that calculates the factorial of a number recursively.\n",
    "def factorial(n):\n",
    "    if n==0:\n",
    "        return(1)\n",
    "    return(n*factorial(n-1))\n",
    "n=int(input(\"enter the number \"))\n",
    "print(factorial(n))"
   ]
  },
  {
   "cell_type": "code",
   "execution_count": 8,
   "id": "264645ec",
   "metadata": {},
   "outputs": [
    {
     "name": "stdout",
     "output_type": "stream",
     "text": [
      "Enter string1:strong\n",
      "Enter string2:strung\n",
      "1\n"
     ]
    }
   ],
   "source": [
    "#Hamming distance is the number of characters that differ between two strings.\n",
    "#hamming_distance(\"abcde\", \"bcdef\") ➞ 5\n",
    "#hamming_distance(\"abcde\", \"abcde\") ➞ 0\n",
    "#hamming_distance(\"strong\", \"strung\") ➞ 1\n",
    "def hamming_distance(str1, str2):\n",
    "    i=0\n",
    "    count=0\n",
    "    while(i<len(str1)):\n",
    "        if(str1[i]!=str2[i]):\n",
    "            count=count+1\n",
    "        i=i+1\n",
    "    return(count)\n",
    "str1=input(\"Enter string1:\")\n",
    "str2=input(\"Enter string2:\")\n",
    "print(hamming_distance(str1,str2))\n",
    "        \n"
   ]
  },
  {
   "cell_type": "code",
   "execution_count": null,
   "id": "703a5e86",
   "metadata": {},
   "outputs": [],
   "source": []
  },
  {
   "cell_type": "code",
   "execution_count": null,
   "id": "668b1e0c",
   "metadata": {},
   "outputs": [],
   "source": []
  }
 ],
 "metadata": {
  "kernelspec": {
   "display_name": "Python 3 (ipykernel)",
   "language": "python",
   "name": "python3"
  },
  "language_info": {
   "codemirror_mode": {
    "name": "ipython",
    "version": 3
   },
   "file_extension": ".py",
   "mimetype": "text/x-python",
   "name": "python",
   "nbconvert_exporter": "python",
   "pygments_lexer": "ipython3",
   "version": "3.9.13"
  }
 },
 "nbformat": 4,
 "nbformat_minor": 5
}
