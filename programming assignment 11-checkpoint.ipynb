{
 "cells": [
  {
   "cell_type": "code",
   "execution_count": null,
   "metadata": {},
   "outputs": [],
   "source": [
    "# 1.\tWrite a Python program to find words which are greater than given length k?\n",
    "# 2.\tWrite a Python program for removing i-th character from a string?\n",
    "# 3.\tWrite a Python program to split and join a string?\n",
    "# 4.\tWrite a Python to check if a given string is binary string or not?\n",
    "# 5.\tWrite a Python program to find uncommon words from two Strings?\n",
    "# 6.\tWrite a Python to find all duplicate characters in string?\n",
    "# 7.\tWrite a Python Program to check if a string contains any special character?\n"
   ]
  },
  {
   "cell_type": "code",
   "execution_count": 8,
   "metadata": {},
   "outputs": [
    {
     "name": "stdout",
     "output_type": "stream",
     "text": [
      "enter the length:2\n",
      "love\n",
      "for\n",
      "india\n"
     ]
    }
   ],
   "source": [
    "# Write a Python program to find words which are greater than given length k?\n",
    "my_str=\" my love is for india\"\n",
    "n=int(input(\"enter the length:\"))\n",
    "sp_str=my_str.split()\n",
    "for i in sp_str:\n",
    "    if len(i)>n:\n",
    "        print(i)\n"
   ]
  },
  {
   "cell_type": "code",
   "execution_count": 16,
   "metadata": {},
   "outputs": [
    {
     "name": "stdout",
     "output_type": "stream",
     "text": [
      "enter nth place:2\n",
      "idia\n"
     ]
    }
   ],
   "source": [
    "# 2.\tWrite a Python program for removing i-th character from a string?\n",
    "my_str=\"india\"\n",
    "n=int(input(\"enter nth place:\"))\n",
    "for i in range(len(my_str)):\n",
    "    if i==n-1:\n",
    "        s3=my_str.replace(my_str[i],\"\")\n",
    "        print(s3)\n"
   ]
  },
  {
   "cell_type": "code",
   "execution_count": 20,
   "metadata": {},
   "outputs": [
    {
     "name": "stdout",
     "output_type": "stream",
     "text": [
      "enter the length:1\n",
      " my love is for india\n"
     ]
    }
   ],
   "source": [
    "# 3.\tWrite a Python program to split and join a string?\n",
    "my_str=\" my love is for india\"\n",
    "sp_str=my_str.split()\n",
    "c3=\"\".join(my_str)\n",
    "print(c3)\n"
   ]
  },
  {
   "cell_type": "code",
   "execution_count": 29,
   "metadata": {},
   "outputs": [
    {
     "name": "stdout",
     "output_type": "stream",
     "text": [
      "['e']\n"
     ]
    }
   ],
   "source": [
    "#4. Write a Python to find all duplicate characters in string?\n",
    "my_str=\"enter\"\n",
    "dup_str=[]\n",
    "for c in my_str:\n",
    "    if my_str.count(c)>1:\n",
    "        if c not in dup_str:\n",
    "            dup_str.append(c)\n",
    "print(dup_str)\n",
    "    "
   ]
  },
  {
   "cell_type": "code",
   "execution_count": 60,
   "metadata": {},
   "outputs": [
    {
     "data": {
      "text/plain": [
       "'no'"
      ]
     },
     "execution_count": 60,
     "metadata": {},
     "output_type": "execute_result"
    }
   ],
   "source": [
    "# 7.\tWrite a Python Program to check if a string contains any special character?\n",
    "def special(s):\n",
    "    special_characters = \"!@#$%^&*()-+?_=,<>/\"\n",
    "    for c in s:\n",
    "        if c in special_characters:\n",
    "            p=\"yes\"\n",
    "        else:\n",
    "            p=\"no\"\n",
    "    return(p)\n",
    "special(\"vvfgg\")"
   ]
  },
  {
   "cell_type": "code",
   "execution_count": 63,
   "metadata": {},
   "outputs": [
    {
     "data": {
      "text/plain": [
       "' india love'"
      ]
     },
     "execution_count": 63,
     "metadata": {},
     "output_type": "execute_result"
    }
   ],
   "source": [
    "# \tWrite a Python program to find uncommon words from two Strings?\n",
    "def uncommon(a,b):\n",
    "    list_a = a.split()\n",
    "    list_b = b.split()\n",
    "    uc = ''\n",
    "    for i in list_a:\n",
    "        if i not in list_b:\n",
    "            uc = uc+\" \"+i\n",
    "    for j in list_b:\n",
    "        if j not in list_a:\n",
    "            uc = uc+\" \"+j\n",
    "  \n",
    "    return uc\n",
    "uncommon(\"my india\",\"my love\")   "
   ]
  },
  {
   "cell_type": "code",
   "execution_count": null,
   "metadata": {},
   "outputs": [],
   "source": []
  }
 ],
 "metadata": {
  "kernelspec": {
   "display_name": "Python 3",
   "language": "python",
   "name": "python3"
  },
  "language_info": {
   "codemirror_mode": {
    "name": "ipython",
    "version": 3
   },
   "file_extension": ".py",
   "mimetype": "text/x-python",
   "name": "python",
   "nbconvert_exporter": "python",
   "pygments_lexer": "ipython3",
   "version": "3.8.3"
  }
 },
 "nbformat": 4,
 "nbformat_minor": 4
}
