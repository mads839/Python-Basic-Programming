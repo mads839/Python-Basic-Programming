{
 "cells": [
  {
   "cell_type": "code",
   "execution_count": 5,
   "id": "84fe0b65",
   "metadata": {},
   "outputs": [
    {
     "name": "stdout",
     "output_type": "stream",
     "text": [
      "Input a number: 5\n",
      "120\n"
     ]
    }
   ],
   "source": [
    "# 1.\tWrite a Python Program to Find the Factorial of a Number?\n",
    "n = int(input('Input a number: '))\n",
    "fact=1\n",
    "for i in range(2,n+1):\n",
    "    fact=fact*i\n",
    "    i=i+1\n",
    "print(fact)\n",
    "\n",
    "\n",
    "\n"
   ]
  },
  {
   "cell_type": "code",
   "execution_count": 8,
   "id": "8c6a3777",
   "metadata": {},
   "outputs": [
    {
     "name": "stdout",
     "output_type": "stream",
     "text": [
      "Input a number: 2\n",
      "2*1  2\n",
      "2*2  4\n",
      "2*3  6\n",
      "2*4  8\n",
      "2*5  10\n",
      "2*6  12\n",
      "2*7  14\n",
      "2*8  16\n",
      "2*9  18\n",
      "2*10  20\n"
     ]
    }
   ],
   "source": [
    "# 2.\tWrite a Python Program to Display the multiplication Table?\n",
    "n = int(input('Input a number: '))\n",
    "for i in range(1,11):\n",
    "    t=n*i\n",
    "    print(str(n)+\"*\"+str(i)+\" \",t)\n",
    "  "
   ]
  },
  {
   "cell_type": "code",
   "execution_count": 21,
   "id": "eec68b57",
   "metadata": {},
   "outputs": [
    {
     "name": "stdout",
     "output_type": "stream",
     "text": [
      "nth number: 10\n",
      "0\n",
      "1\n",
      "1\n",
      "2\n",
      "3\n",
      "5\n",
      "8\n",
      "13\n",
      "21\n",
      "34\n"
     ]
    }
   ],
   "source": [
    "# 3.\tWrite a Python Program to Print the Fibonacci sequence?\n",
    "n1=0\n",
    "n2=1\n",
    "count=1\n",
    "n = int(input('nth number: '))\n",
    "while count <=n:\n",
    "    print(n1)\n",
    "    nth = n1 + n2\n",
    "    n1 = n2\n",
    "    n2 = nth\n",
    "    count += 1\n",
    "    \n"
   ]
  },
  {
   "cell_type": "code",
   "execution_count": 2,
   "id": "f2971683",
   "metadata": {},
   "outputs": [
    {
     "name": "stdout",
     "output_type": "stream",
     "text": [
      "enter number: 452\n",
      "not armstg\n"
     ]
    }
   ],
   "source": [
    "# 4.\tWrite a Python Program to Check Armstrong Number?\n",
    "n = int(input('enter number: '))\n",
    "sum=0\n",
    "t=n\n",
    "while (t>0):\n",
    "    d=t%10\n",
    "    sum=sum+d**3\n",
    "    t=t//10\n",
    "if(sum==n):\n",
    "     print(\"the number is armstrong\")\n",
    "else:\n",
    "    print(\"the number is not armstrong\")\n",
    "    "
   ]
  },
  {
   "cell_type": "code",
   "execution_count": 52,
   "id": "c1ae08f6",
   "metadata": {},
   "outputs": [
    {
     "name": "stdout",
     "output_type": "stream",
     "text": [
      "1\n",
      "64\n",
      "125\n",
      "216\n",
      "217\n",
      "539\n",
      "729\n"
     ]
    }
   ],
   "source": [
    "# 5.\tWrite a Python Program to Find Armstrong Number in an Interval?\n",
    "\n",
    "for i in range (1,1000):\n",
    "    sum=0\n",
    "    t=i\n",
    "    while(t>0):\n",
    "        d=t%10\n",
    "        sum=sum+d**3\n",
    "        t=t//10\n",
    "        if(sum==i):\n",
    "            print(i)\n",
    "        i=i+1\n",
    "    "
   ]
  },
  {
   "cell_type": "code",
   "execution_count": 59,
   "id": "74f187ad",
   "metadata": {},
   "outputs": [
    {
     "name": "stdout",
     "output_type": "stream",
     "text": [
      "enter the number 16\n",
      "136\n"
     ]
    }
   ],
   "source": [
    "# 6.\tWrite a Python Program to Find the Sum of Natural Numbers?\n",
    "n=int(input(\"enter the number \"))\n",
    "sum=0\n",
    "t=n\n",
    "while(t>0):\n",
    "    sum=sum+t\n",
    "    t=t-1\n",
    "print(sum)\n",
    " \n",
    "   "
   ]
  },
  {
   "cell_type": "code",
   "execution_count": null,
   "id": "5c11fe16",
   "metadata": {},
   "outputs": [],
   "source": []
  }
 ],
 "metadata": {
  "kernelspec": {
   "display_name": "Python 3",
   "language": "python",
   "name": "python3"
  },
  "language_info": {
   "codemirror_mode": {
    "name": "ipython",
    "version": 3
   },
   "file_extension": ".py",
   "mimetype": "text/x-python",
   "name": "python",
   "nbconvert_exporter": "python",
   "pygments_lexer": "ipython3",
   "version": "3.8.8"
  }
 },
 "nbformat": 4,
 "nbformat_minor": 5
}
