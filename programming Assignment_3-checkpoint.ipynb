{
 "cells": [
  {
   "cell_type": "code",
   "execution_count": 1,
   "id": "5548ae2a",
   "metadata": {},
   "outputs": [
    {
     "name": "stdout",
     "output_type": "stream",
     "text": [
      "Input a number: 1\n",
      "Number is Positive.\n"
     ]
    }
   ],
   "source": [
    "# 1.\tWrite a Python Program to Check if a Number is Positive, Negative or Zero?\n",
    "n = float(input('Input a number: '))\n",
    "print('Number is Positive.' if n > 0 else 'It is Zero!' if n == 0 else 'Number is Negative.')\n",
    "\n",
    "\n",
    "\n"
   ]
  },
  {
   "cell_type": "code",
   "execution_count": 3,
   "id": "dcab4263",
   "metadata": {},
   "outputs": [
    {
     "name": "stdout",
     "output_type": "stream",
     "text": [
      "Input a number: -5\n",
      "Number is odd\n"
     ]
    }
   ],
   "source": [
    "# 2.\tWrite a Python Program to Check if a Number is Odd or Even?\n",
    "n = float(input('Input a number: '))\n",
    "if(n%2==0):\n",
    "    print(\"Number is even\")\n",
    "else:\n",
    "    print(\"Number is odd\")\n",
    "        "
   ]
  },
  {
   "cell_type": "code",
   "execution_count": 9,
   "id": "76b34f2d",
   "metadata": {},
   "outputs": [
    {
     "name": "stdout",
     "output_type": "stream",
     "text": [
      "Input a year: 1996\n",
      "The year is leap year\n"
     ]
    }
   ],
   "source": [
    "# 3.\tWrite a Python Program to Check Leap Year?\n",
    "n = int(input('Input a year: '))\n",
    "if((n%4==0) and (n%100!=0)):\n",
    "    print(\"The year is leap year\")\n",
    "elif((n%100==0)and (n%400==0)):\n",
    "    print(\"The year is leap year\")\n",
    "else:\n",
    "    print(\"The Year is not leap year\")"
   ]
  },
  {
   "cell_type": "code",
   "execution_count": null,
   "id": "d238dca8",
   "metadata": {},
   "outputs": [],
   "source": [
    "# 4.\tWrite a Python Program to Check Prime Number?"
   ]
  },
  {
   "cell_type": "code",
   "execution_count": null,
   "id": "2c830110",
   "metadata": {},
   "outputs": [],
   "source": [
    "# 5.\tWrite a Python Program to Print all Prime Numbers in an Interval of 1-10000?"
   ]
  }
 ],
 "metadata": {
  "kernelspec": {
   "display_name": "Python 3",
   "language": "python",
   "name": "python3"
  },
  "language_info": {
   "codemirror_mode": {
    "name": "ipython",
    "version": 3
   },
   "file_extension": ".py",
   "mimetype": "text/x-python",
   "name": "python",
   "nbconvert_exporter": "python",
   "pygments_lexer": "ipython3",
   "version": "3.8.8"
  }
 },
 "nbformat": 4,
 "nbformat_minor": 5
}
