{
 "cells": [
  {
   "cell_type": "code",
   "execution_count": 17,
   "metadata": {},
   "outputs": [
    {
     "name": "stdout",
     "output_type": "stream",
     "text": [
      "[10, 20, 4, 45, 99]\n",
      "3564000\n"
     ]
    }
   ],
   "source": [
    "# 1.\tWrite a Python program to find multiply of elements in list?\n",
    "l=[10, 20, 4, 45, 99]\n",
    "print(l)\n",
    "mul=1\n",
    "for i in l:\n",
    "    mul=mul*int(i)\n",
    "print(mul)\n",
    "    "
   ]
  },
  {
   "cell_type": "code",
   "execution_count": 18,
   "metadata": {},
   "outputs": [
    {
     "name": "stdout",
     "output_type": "stream",
     "text": [
      "[10, 20, 4, 45, 99]\n",
      "178\n"
     ]
    }
   ],
   "source": [
    "# 1.\tWrite a Python program to find sum of elements in list?\n",
    "l=[10, 20, 4, 45, 99]\n",
    "print(l)\n",
    "sum=0\n",
    "for i in l:\n",
    "    sum=sum+int(i)\n",
    "print(sum)"
   ]
  },
  {
   "cell_type": "code",
   "execution_count": 19,
   "metadata": {},
   "outputs": [
    {
     "name": "stdout",
     "output_type": "stream",
     "text": [
      "[10, 20, 4, 45, 99]\n",
      "4\n"
     ]
    }
   ],
   "source": [
    "# 3.\tWrite a Python program to find smallest number in a list?\n",
    "l=[10, 20, 4, 45, 99]\n",
    "print(l)\n",
    "l.sort()\n",
    "print(l[0])"
   ]
  },
  {
   "cell_type": "code",
   "execution_count": 20,
   "metadata": {},
   "outputs": [
    {
     "name": "stdout",
     "output_type": "stream",
     "text": [
      "[10, 20, 4, 45, 99]\n",
      "99\n"
     ]
    }
   ],
   "source": [
    "# 4.\tWrite a Python program to find largest number in a list?\n",
    "l=[10, 20, 4, 45, 99]\n",
    "print(l)\n",
    "l.sort()\n",
    "print(l[-1])"
   ]
  },
  {
   "cell_type": "code",
   "execution_count": 21,
   "metadata": {},
   "outputs": [
    {
     "name": "stdout",
     "output_type": "stream",
     "text": [
      "[10, 20, 4, 45, 99]\n",
      "45\n"
     ]
    }
   ],
   "source": [
    "# 5.\tWrite a Python program to find second largest number in a list?\n",
    "l=[10, 20, 4, 45, 99]\n",
    "print(l)\n",
    "l.sort()\n",
    "print(l[-2])"
   ]
  },
  {
   "cell_type": "code",
   "execution_count": 22,
   "metadata": {},
   "outputs": [
    {
     "name": "stdout",
     "output_type": "stream",
     "text": [
      "enter nth number: 2\n",
      "[10, 20, 4, 45, 99]\n",
      "[45, 99]\n"
     ]
    }
   ],
   "source": [
    "# 6.\tWrite a Python program to find N largest elements from a list?\n",
    "l=[10, 20, 4, 45, 99]\n",
    "n=int(input(\"enter nth number: \"))\n",
    "print(l)\n",
    "l.sort()\n",
    "print(l[-n:])\n"
   ]
  },
  {
   "cell_type": "code",
   "execution_count": 2,
   "metadata": {},
   "outputs": [
    {
     "name": "stdout",
     "output_type": "stream",
     "text": [
      "10\n",
      "20\n",
      "4\n"
     ]
    }
   ],
   "source": [
    "# \tWrite a Python program to print even numbers in a list?\n",
    "l=[10, 20, 4, 45, 99]\n",
    "for i in l:\n",
    "    if (i%2==0):\n",
    "        print(i)\n"
   ]
  },
  {
   "cell_type": "code",
   "execution_count": 3,
   "metadata": {},
   "outputs": [
    {
     "name": "stdout",
     "output_type": "stream",
     "text": [
      "45\n",
      "99\n"
     ]
    }
   ],
   "source": [
    "# 8.\tWrite a Python program to print odd numbers in a List?\n",
    "l=[10, 20, 4, 45, 99]\n",
    "for i in l:\n",
    "    if (i%2!=0):\n",
    "        print(i)"
   ]
  },
  {
   "cell_type": "code",
   "execution_count": 13,
   "metadata": {},
   "outputs": [
    {
     "name": "stdout",
     "output_type": "stream",
     "text": [
      "[10, 20, 4, 45, 99]\n"
     ]
    }
   ],
   "source": [
    "# 9.\tWrite a Python program to Remove empty List from List?\n",
    "l=[10, 20, 4, 45, 99,[],[]]\n",
    "new_l=[]\n",
    "for i in l:\n",
    "    if (i!=[]):\n",
    "        new_l.append(i)\n",
    "print(new_l)"
   ]
  },
  {
   "cell_type": "code",
   "execution_count": 14,
   "metadata": {},
   "outputs": [
    {
     "name": "stdout",
     "output_type": "stream",
     "text": [
      "[10, 22, 44, 23, 4]\n",
      "[10, 22, 44, 23, 4]\n"
     ]
    }
   ],
   "source": [
    "# 10.\tWrite a Python program to Cloning or Copying a list?\n",
    "original_list = [10, 22, 44, 23, 4]\n",
    "new_list = list(original_list)\n",
    "print(original_list)\n",
    "print(new_list)"
   ]
  },
  {
   "cell_type": "code",
   "execution_count": 25,
   "metadata": {},
   "outputs": [
    {
     "name": "stdout",
     "output_type": "stream",
     "text": [
      "enter element :4\n",
      "1\n"
     ]
    }
   ],
   "source": [
    "# 11.\tWrite a Python program to Count occurrences of an element in a list?\n",
    "Old_list = [10, 22, 44, 23, 4,22,10]\n",
    "count=0\n",
    "n=int(input(\"enter element :\"))\n",
    "for i in Old_list:\n",
    "    if i==n:\n",
    "        count+=1\n",
    "print(count)\n",
    "     \n",
    "     \n",
    "    \n"
   ]
  },
  {
   "cell_type": "code",
   "execution_count": null,
   "metadata": {},
   "outputs": [],
   "source": [
    "\n"
   ]
  },
  {
   "cell_type": "code",
   "execution_count": null,
   "metadata": {},
   "outputs": [],
   "source": []
  }
 ],
 "metadata": {
  "kernelspec": {
   "display_name": "Python 3",
   "language": "python",
   "name": "python3"
  },
  "language_info": {
   "codemirror_mode": {
    "name": "ipython",
    "version": 3
   },
   "file_extension": ".py",
   "mimetype": "text/x-python",
   "name": "python",
   "nbconvert_exporter": "python",
   "pygments_lexer": "ipython3",
   "version": "3.8.3"
  }
 },
 "nbformat": 4,
 "nbformat_minor": 4
}
